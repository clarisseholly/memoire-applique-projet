{
 "cells": [
  {
   "cell_type": "code",
   "execution_count": null,
   "metadata": {},
   "outputs": [],
   "source": [
    "import os\n",
    "import cv2\n",
    "import matplotlib.pyplot as plt\n",
    "\n",
    "# Définir le chemin de base\n",
    "base_path = 'data'\n",
    "\n",
    "# Définir les dossiers\n",
    "folders = ['10faces', 'extended_dataset']\n",
    "\n",
    "# Fonction pour charger les images\n",
    "def load_images_from_folder(folder):\n",
    "    images = []\n",
    "    labels = []\n",
    "    for label in os.listdir(folder):\n",
    "        label_folder = os.path.join(folder, label)\n",
    "        if os.path.isdir(label_folder):\n",
    "            for filename in os.listdir(label_folder):\n",
    "                img_path = os.path.join(label_folder, filename)\n",
    "                img = cv2.imread(img_path, cv2.IMREAD_GRAYSCALE)\n",
    "                if img is not None:\n",
    "                    images.append(img)\n",
    "                    labels.append(label)\n",
    "    return images, labels\n",
    "\n",
    "# Charger les images\n",
    "images_10faces, labels_10faces = load_images_from_folder(os.path.join(base_path, '10faces'))\n",
    "images_extended, labels_extended = load_images_from_folder(os.path.join(base_path, 'extended_dataset'))\n",
    "\n",
    "# Fonction pour afficher une grille d'images\n",
    "def show_images(images, labels, title, num_images=10):\n",
    "    plt.figure(figsize=(20, 10))\n",
    "    plt.suptitle(title)\n",
    "    unique_labels = list(set(labels))\n",
    "    num_classes = len(unique_labels)\n",
    "    images_per_class = min(num_images // num_classes, len(images) // num_classes)\n",
    "    \n",
    "    for i, label in enumerate(unique_labels):\n",
    "        label_images = [img for img, lbl in zip(images, labels) if lbl == label][:images_per_class]\n",
    "        for j, img in enumerate(label_images):\n",
    "            plt.subplot(num_classes, images_per_class, i * images_per_class + j + 1)\n",
    "            plt.imshow(img, cmap='gray')\n",
    "            plt.title(f'Class {label}')\n",
    "            plt.axis('off')\n",
    "\n",
    "# Afficher les images des deux datasets\n",
    "show_images(images_10faces, labels_10faces, '10 Faces Dataset', num_images=50)\n",
    "show_images(images_extended, labels_extended, 'Extended Dataset', num_images=50)\n",
    "plt.show()\n"
   ]
  }
 ],
 "metadata": {
  "language_info": {
   "name": "python"
  }
 },
 "nbformat": 4,
 "nbformat_minor": 2
}
